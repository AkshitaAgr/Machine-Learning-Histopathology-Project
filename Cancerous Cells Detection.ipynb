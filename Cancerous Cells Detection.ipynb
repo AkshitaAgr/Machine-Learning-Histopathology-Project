{
 "cells": [
  {
   "cell_type": "markdown",
   "id": "cf8f7b04",
   "metadata": {},
   "source": [
    "## Assignment 2 (Part 1): Classifying if cell images are cancerous or not"
   ]
  },
  {
   "cell_type": "markdown",
   "id": "226adc6c",
   "metadata": {},
   "source": [
    "<i> By Akshita Agrawal (s3933878) and Penusha Udapamunuwa (s3925899) </i>"
   ]
  },
  {
   "cell_type": "markdown",
   "id": "ef01c43e",
   "metadata": {},
   "source": [
    "## Table of Contents\n",
    "\n",
    "* [Introduction](#intro)\n",
    "* [EDA](#eda)\n",
    "* [Loading Images](#dataprep)\n",
    "* [Data splitting](#datasplit)\n",
    "* [Evaluation Framework](#ef)\n",
    "* [Baseline Model](#base)\n",
    "* [Regularization](#reg)\n",
    "* [Testing](#test)"
   ]
  },
  {
   "cell_type": "markdown",
   "id": "d8dcd4fe",
   "metadata": {},
   "source": [
    "## Introduction <a id='intro'></a>"
   ]
  },
  {
   "cell_type": "markdown",
   "id": "2bb8af10",
   "metadata": {},
   "source": [
    "This assignment contains two parts. This part will be where we use machine learning techniques to predict if the given cell images are cancerous or not."
   ]
  },
  {
   "cell_type": "markdown",
   "id": "b11c015f",
   "metadata": {},
   "source": [
    "## Explaratory Data Analysis <a id=\"eda\"> </a>"
   ]
  },
  {
   "cell_type": "markdown",
   "id": "6e95ade9",
   "metadata": {},
   "source": [
    "First we will load in our dataset and explore its contents"
   ]
  },
  {
   "cell_type": "code",
   "execution_count": 1,
   "id": "1f140d40",
   "metadata": {},
   "outputs": [],
   "source": [
    "import pandas as pd\n",
    "import matplotlib.pyplot as plt\n",
    "import tensorflow as tf\n",
    "from sklearn.model_selection import train_test_split\n",
    "import numpy as np"
   ]
  },
  {
   "cell_type": "code",
   "execution_count": 2,
   "id": "595eb8df",
   "metadata": {},
   "outputs": [
    {
     "data": {
      "text/html": [
       "<div>\n",
       "<style scoped>\n",
       "    .dataframe tbody tr th:only-of-type {\n",
       "        vertical-align: middle;\n",
       "    }\n",
       "\n",
       "    .dataframe tbody tr th {\n",
       "        vertical-align: top;\n",
       "    }\n",
       "\n",
       "    .dataframe thead th {\n",
       "        text-align: right;\n",
       "    }\n",
       "</style>\n",
       "<table border=\"1\" class=\"dataframe\">\n",
       "  <thead>\n",
       "    <tr style=\"text-align: right;\">\n",
       "      <th></th>\n",
       "      <th>InstanceID</th>\n",
       "      <th>patientID</th>\n",
       "      <th>ImageName</th>\n",
       "      <th>cellTypeName</th>\n",
       "      <th>cellType</th>\n",
       "      <th>isCancerous</th>\n",
       "    </tr>\n",
       "  </thead>\n",
       "  <tbody>\n",
       "    <tr>\n",
       "      <th>0</th>\n",
       "      <td>22405</td>\n",
       "      <td>1</td>\n",
       "      <td>22405.png</td>\n",
       "      <td>fibroblast</td>\n",
       "      <td>0</td>\n",
       "      <td>0</td>\n",
       "    </tr>\n",
       "    <tr>\n",
       "      <th>1</th>\n",
       "      <td>22406</td>\n",
       "      <td>1</td>\n",
       "      <td>22406.png</td>\n",
       "      <td>fibroblast</td>\n",
       "      <td>0</td>\n",
       "      <td>0</td>\n",
       "    </tr>\n",
       "    <tr>\n",
       "      <th>2</th>\n",
       "      <td>22407</td>\n",
       "      <td>1</td>\n",
       "      <td>22407.png</td>\n",
       "      <td>fibroblast</td>\n",
       "      <td>0</td>\n",
       "      <td>0</td>\n",
       "    </tr>\n",
       "    <tr>\n",
       "      <th>3</th>\n",
       "      <td>22408</td>\n",
       "      <td>1</td>\n",
       "      <td>22408.png</td>\n",
       "      <td>fibroblast</td>\n",
       "      <td>0</td>\n",
       "      <td>0</td>\n",
       "    </tr>\n",
       "    <tr>\n",
       "      <th>4</th>\n",
       "      <td>22409</td>\n",
       "      <td>1</td>\n",
       "      <td>22409.png</td>\n",
       "      <td>fibroblast</td>\n",
       "      <td>0</td>\n",
       "      <td>0</td>\n",
       "    </tr>\n",
       "  </tbody>\n",
       "</table>\n",
       "</div>"
      ],
      "text/plain": [
       "   InstanceID  patientID  ImageName cellTypeName  cellType  isCancerous\n",
       "0       22405          1  22405.png   fibroblast         0            0\n",
       "1       22406          1  22406.png   fibroblast         0            0\n",
       "2       22407          1  22407.png   fibroblast         0            0\n",
       "3       22408          1  22408.png   fibroblast         0            0\n",
       "4       22409          1  22409.png   fibroblast         0            0"
      ]
     },
     "execution_count": 2,
     "metadata": {},
     "output_type": "execute_result"
    }
   ],
   "source": [
    "df = pd.read_csv('../Image_classification_data/data_labels_mainData.csv', delimiter=',')\n",
    "df.head()"
   ]
  },
  {
   "cell_type": "code",
   "execution_count": 3,
   "id": "cd9e1c8f",
   "metadata": {},
   "outputs": [
    {
     "data": {
      "text/plain": [
       "(9896, 6)"
      ]
     },
     "execution_count": 3,
     "metadata": {},
     "output_type": "execute_result"
    }
   ],
   "source": [
    "df.shape"
   ]
  },
  {
   "cell_type": "markdown",
   "id": "453b3219",
   "metadata": {},
   "source": [
    "This dataset contains 6 columns and 9896 rows. Now we will take a look at the number of unique values in each column"
   ]
  },
  {
   "cell_type": "code",
   "execution_count": 4,
   "id": "4ac5b490",
   "metadata": {},
   "outputs": [
    {
     "data": {
      "text/plain": [
       "InstanceID      9896\n",
       "patientID         60\n",
       "ImageName       9896\n",
       "cellTypeName       4\n",
       "cellType           4\n",
       "isCancerous        2\n",
       "dtype: int64"
      ]
     },
     "execution_count": 4,
     "metadata": {},
     "output_type": "execute_result"
    }
   ],
   "source": [
    "df.nunique()"
   ]
  },
  {
   "cell_type": "code",
   "execution_count": 5,
   "id": "95d9fffc",
   "metadata": {},
   "outputs": [
    {
     "name": "stdout",
     "output_type": "stream",
     "text": [
      "<class 'pandas.core.frame.DataFrame'>\n",
      "RangeIndex: 9896 entries, 0 to 9895\n",
      "Data columns (total 6 columns):\n",
      " #   Column        Non-Null Count  Dtype \n",
      "---  ------        --------------  ----- \n",
      " 0   InstanceID    9896 non-null   int64 \n",
      " 1   patientID     9896 non-null   int64 \n",
      " 2   ImageName     9896 non-null   object\n",
      " 3   cellTypeName  9896 non-null   object\n",
      " 4   cellType      9896 non-null   int64 \n",
      " 5   isCancerous   9896 non-null   int64 \n",
      "dtypes: int64(4), object(2)\n",
      "memory usage: 464.0+ KB\n"
     ]
    }
   ],
   "source": [
    "df.info()"
   ]
  },
  {
   "cell_type": "markdown",
   "id": "04db1ac2",
   "metadata": {},
   "source": [
    "It is observed that `patientID`, `cellTypeName`, `cellType`, and `isCancerous` are catergorical attribtues. Since we are looking at building a model that predicts if an image is cancerous or not, `patientID` and `InstanceID` do not have useful information for the modelling task at hand, but `ImageName` is needed for this classification. Therefore, we will remove `InstanceID` and `patientID` from this dataset."
   ]
  },
  {
   "cell_type": "code",
   "execution_count": 6,
   "id": "7b7d45a7",
   "metadata": {},
   "outputs": [
    {
     "data": {
      "text/html": [
       "<div>\n",
       "<style scoped>\n",
       "    .dataframe tbody tr th:only-of-type {\n",
       "        vertical-align: middle;\n",
       "    }\n",
       "\n",
       "    .dataframe tbody tr th {\n",
       "        vertical-align: top;\n",
       "    }\n",
       "\n",
       "    .dataframe thead th {\n",
       "        text-align: right;\n",
       "    }\n",
       "</style>\n",
       "<table border=\"1\" class=\"dataframe\">\n",
       "  <thead>\n",
       "    <tr style=\"text-align: right;\">\n",
       "      <th></th>\n",
       "      <th>ImageName</th>\n",
       "      <th>cellTypeName</th>\n",
       "      <th>cellType</th>\n",
       "      <th>isCancerous</th>\n",
       "    </tr>\n",
       "  </thead>\n",
       "  <tbody>\n",
       "    <tr>\n",
       "      <th>0</th>\n",
       "      <td>22405.png</td>\n",
       "      <td>fibroblast</td>\n",
       "      <td>0</td>\n",
       "      <td>0</td>\n",
       "    </tr>\n",
       "    <tr>\n",
       "      <th>1</th>\n",
       "      <td>22406.png</td>\n",
       "      <td>fibroblast</td>\n",
       "      <td>0</td>\n",
       "      <td>0</td>\n",
       "    </tr>\n",
       "    <tr>\n",
       "      <th>2</th>\n",
       "      <td>22407.png</td>\n",
       "      <td>fibroblast</td>\n",
       "      <td>0</td>\n",
       "      <td>0</td>\n",
       "    </tr>\n",
       "    <tr>\n",
       "      <th>3</th>\n",
       "      <td>22408.png</td>\n",
       "      <td>fibroblast</td>\n",
       "      <td>0</td>\n",
       "      <td>0</td>\n",
       "    </tr>\n",
       "    <tr>\n",
       "      <th>4</th>\n",
       "      <td>22409.png</td>\n",
       "      <td>fibroblast</td>\n",
       "      <td>0</td>\n",
       "      <td>0</td>\n",
       "    </tr>\n",
       "  </tbody>\n",
       "</table>\n",
       "</div>"
      ],
      "text/plain": [
       "   ImageName cellTypeName  cellType  isCancerous\n",
       "0  22405.png   fibroblast         0            0\n",
       "1  22406.png   fibroblast         0            0\n",
       "2  22407.png   fibroblast         0            0\n",
       "3  22408.png   fibroblast         0            0\n",
       "4  22409.png   fibroblast         0            0"
      ]
     },
     "execution_count": 6,
     "metadata": {},
     "output_type": "execute_result"
    }
   ],
   "source": [
    "df = df.drop(['InstanceID','patientID'], axis=1)\n",
    "df.head()"
   ]
  },
  {
   "cell_type": "markdown",
   "id": "dc6e0023",
   "metadata": {},
   "source": [
    "For this part of the assignment we only need `ImageName` and `isCancerous` columns. Therfore we will drop all other columns."
   ]
  },
  {
   "cell_type": "code",
   "execution_count": 7,
   "id": "e25a8fe2",
   "metadata": {},
   "outputs": [
    {
     "data": {
      "text/html": [
       "<div>\n",
       "<style scoped>\n",
       "    .dataframe tbody tr th:only-of-type {\n",
       "        vertical-align: middle;\n",
       "    }\n",
       "\n",
       "    .dataframe tbody tr th {\n",
       "        vertical-align: top;\n",
       "    }\n",
       "\n",
       "    .dataframe thead th {\n",
       "        text-align: right;\n",
       "    }\n",
       "</style>\n",
       "<table border=\"1\" class=\"dataframe\">\n",
       "  <thead>\n",
       "    <tr style=\"text-align: right;\">\n",
       "      <th></th>\n",
       "      <th>ImageName</th>\n",
       "      <th>isCancerous</th>\n",
       "    </tr>\n",
       "  </thead>\n",
       "  <tbody>\n",
       "    <tr>\n",
       "      <th>0</th>\n",
       "      <td>22405.png</td>\n",
       "      <td>0</td>\n",
       "    </tr>\n",
       "    <tr>\n",
       "      <th>1</th>\n",
       "      <td>22406.png</td>\n",
       "      <td>0</td>\n",
       "    </tr>\n",
       "    <tr>\n",
       "      <th>2</th>\n",
       "      <td>22407.png</td>\n",
       "      <td>0</td>\n",
       "    </tr>\n",
       "    <tr>\n",
       "      <th>3</th>\n",
       "      <td>22408.png</td>\n",
       "      <td>0</td>\n",
       "    </tr>\n",
       "    <tr>\n",
       "      <th>4</th>\n",
       "      <td>22409.png</td>\n",
       "      <td>0</td>\n",
       "    </tr>\n",
       "  </tbody>\n",
       "</table>\n",
       "</div>"
      ],
      "text/plain": [
       "   ImageName  isCancerous\n",
       "0  22405.png            0\n",
       "1  22406.png            0\n",
       "2  22407.png            0\n",
       "3  22408.png            0\n",
       "4  22409.png            0"
      ]
     },
     "execution_count": 7,
     "metadata": {},
     "output_type": "execute_result"
    }
   ],
   "source": [
    "df = df.drop(['cellType', 'cellTypeName'],axis=1)\n",
    "df.head()"
   ]
  },
  {
   "cell_type": "markdown",
   "id": "7ff23bfb",
   "metadata": {},
   "source": [
    "We will take a look at how the data is distributed in the `isCancerous` using a bar chart"
   ]
  },
  {
   "cell_type": "code",
   "execution_count": 8,
   "id": "405adf41",
   "metadata": {},
   "outputs": [
    {
     "data": {
      "image/png": "[encoded data removed]",
      "text/plain": [
       "<Figure size 432x288 with 1 Axes>"
      ]
     },
     "metadata": {
      "needs_background": "light"
     },
     "output_type": "display_data"
    }
   ],
   "source": [
    "import seaborn as sns\n",
    "figsize=(20, 7)\n",
    "\n",
    "sns.countplot(x='isCancerous', data=df, palette='magma', order=df['isCancerous'].value_counts().index)\n",
    "plt.title('isCancerous', fontsize=15)\n",
    "plt.xlabel('isCancerous', fontsize=12)\n",
    "plt.ylabel('Count', fontsize=12)\n",
    "\n",
    "plt.show()"
   ]
  },
  {
   "cell_type": "markdown",
   "id": "e7f7019b",
   "metadata": {},
   "source": [
    "There are more non-cancerous cell images compared to cancerous cell images in this dataset. "
   ]
  },
  {
   "cell_type": "markdown",
   "id": "5018cc85",
   "metadata": {},
   "source": [
    "## Data Pre-processing <a id=dataprep></a>"
   ]
  },
  {
   "cell_type": "markdown",
   "id": "ec85839e",
   "metadata": {},
   "source": [
    "We will be using image classification when building our machine learning model. Our images are stored in the folder \"./Image_classification_data/patch_images\". The image name of these images correspond with `ImageName` in our dateset. We will append a new column, `ImgPath` with the corresponding `ImageName` to the dataset as we need to get the images from the relevant folder."
   ]
  },
  {
   "cell_type": "code",
   "execution_count": 9,
   "id": "641a33fe",
   "metadata": {},
   "outputs": [
    {
     "data": {
      "text/html": [
       "<div>\n",
       "<style scoped>\n",
       "    .dataframe tbody tr th:only-of-type {\n",
       "        vertical-align: middle;\n",
       "    }\n",
       "\n",
       "    .dataframe tbody tr th {\n",
       "        vertical-align: top;\n",
       "    }\n",
       "\n",
       "    .dataframe thead th {\n",
       "        text-align: right;\n",
       "    }\n",
       "</style>\n",
       "<table border=\"1\" class=\"dataframe\">\n",
       "  <thead>\n",
       "    <tr style=\"text-align: right;\">\n",
       "      <th></th>\n",
       "      <th>ImageName</th>\n",
       "      <th>isCancerous</th>\n",
       "      <th>ImgPath</th>\n",
       "    </tr>\n",
       "  </thead>\n",
       "  <tbody>\n",
       "    <tr>\n",
       "      <th>0</th>\n",
       "      <td>22405.png</td>\n",
       "      <td>0</td>\n",
       "      <td>../Image_classification_data/patch_images/2240...</td>\n",
       "    </tr>\n",
       "    <tr>\n",
       "      <th>1</th>\n",
       "      <td>22406.png</td>\n",
       "      <td>0</td>\n",
       "      <td>../Image_classification_data/patch_images/2240...</td>\n",
       "    </tr>\n",
       "    <tr>\n",
       "      <th>2</th>\n",
       "      <td>22407.png</td>\n",
       "      <td>0</td>\n",
       "      <td>../Image_classification_data/patch_images/2240...</td>\n",
       "    </tr>\n",
       "    <tr>\n",
       "      <th>3</th>\n",
       "      <td>22408.png</td>\n",
       "      <td>0</td>\n",
       "      <td>../Image_classification_data/patch_images/2240...</td>\n",
       "    </tr>\n",
       "    <tr>\n",
       "      <th>4</th>\n",
       "      <td>22409.png</td>\n",
       "      <td>0</td>\n",
       "      <td>../Image_classification_data/patch_images/2240...</td>\n",
       "    </tr>\n",
       "  </tbody>\n",
       "</table>\n",
       "</div>"
      ],
      "text/plain": [
       "   ImageName  isCancerous                                            ImgPath\n",
       "0  22405.png            0  ../Image_classification_data/patch_images/2240...\n",
       "1  22406.png            0  ../Image_classification_data/patch_images/2240...\n",
       "2  22407.png            0  ../Image_classification_data/patch_images/2240...\n",
       "3  22408.png            0  ../Image_classification_data/patch_images/2240...\n",
       "4  22409.png            0  ../Image_classification_data/patch_images/2240..."
      ]
     },
     "execution_count": 9,
     "metadata": {},
     "output_type": "execute_result"
    }
   ],
   "source": [
    "df['ImgPath'] = '../Image_classification_data/patch_images/' + df['ImageName']\n",
    "df.head()"
   ]
  },
  {
   "cell_type": "markdown",
   "id": "51dc1205",
   "metadata": {},
   "source": [
    "Next we will display four random images from the dataset to see if `ImgPath` corresponds with the images"
   ]
  },
  {
   "cell_type": "code",
   "execution_count": 10,
   "id": "77e5d6fe",
   "metadata": {},
   "outputs": [
    {
     "data": {
      "image/png": "[encoded data removed]",
      "text/plain": [
       "<Figure size 1152x288 with 4 Axes>"
      ]
     },
     "metadata": {
      "needs_background": "light"
     },
     "output_type": "display_data"
    }
   ],
   "source": [
    "# Code taken from week9 QandA\n",
    "from PIL import Image\n",
    "r_inx = np.random.choice(9896, 4)\n",
    "rand_data = df.loc[r_inx,'ImgPath']\n",
    "\n",
    "plt.figure(figsize=(16,4))\n",
    "for i, image_path in enumerate(rand_data):\n",
    "    im = np.asarray(Image.open(image_path))\n",
    "    plt.subplot(1,4,i+1)\n",
    "    plt.title(df.iloc[r_inx[i]]['isCancerous'])\n",
    "    plt.imshow(im,cmap='gray')\n",
    "    plt.axis('off')\n",
    "    \n",
    "plt.show()"
   ]
  },
  {
   "cell_type": "markdown",
   "id": "525a69f9",
   "metadata": {},
   "source": [
    "### Data Splitting <a id='datasplit'></a>"
   ]
  },
  {
   "cell_type": "markdown",
   "id": "4a1f6ca2",
   "metadata": {},
   "source": [
    "Next, we will split our data into train, validation and test datasets. We will be using a 60/20/20 split."
   ]
  },
  {
   "cell_type": "code",
   "execution_count": 11,
   "id": "921deae9",
   "metadata": {},
   "outputs": [
    {
     "name": "stdout",
     "output_type": "stream",
     "text": [
      "Train data : 5937, Val Data: 1979, Test Data: 1980\n"
     ]
    }
   ],
   "source": [
    "# Code taken from Week08 lab\n",
    "\n",
    "train_data, test_data = train_test_split(df, test_size=0.2, random_state=42)\n",
    "train_data, val_data = train_test_split(train_data, test_size=0.25, random_state=42)\n",
    "\n",
    "print(\"Train data : {}, Val Data: {}, Test Data: {}\".format(train_data.shape[0], val_data.shape[0], test_data.shape[0]))\n"
   ]
  },
  {
   "cell_type": "markdown",
   "id": "d6a9e8f3",
   "metadata": {},
   "source": [
    "We will now create data generators for each split."
   ]
  },
  {
   "cell_type": "code",
   "execution_count": 12,
   "id": "fc7fd27e",
   "metadata": {},
   "outputs": [
    {
     "name": "stdout",
     "output_type": "stream",
     "text": [
      "Found 5937 validated image filenames belonging to 2 classes.\n",
      "Found 1979 validated image filenames belonging to 2 classes.\n"
     ]
    }
   ],
   "source": [
    "# Code taken from Week08 lab\n",
    "train_data['isCancerous'] = train_data['isCancerous'].astype('str')\n",
    "val_data['isCancerous'] = val_data['isCancerous'].astype('str')\n",
    "\n",
    "from tensorflow.keras.preprocessing.image import ImageDataGenerator\n",
    "\n",
    "train_datagen = ImageDataGenerator(rescale=1./255, data_format='channels_last')\n",
    "val_datagen = ImageDataGenerator(rescale=1./255, data_format='channels_last')\n",
    "\n",
    "batch_size = 32\n",
    "\n",
    "train_generator = train_datagen.flow_from_dataframe(\n",
    "        dataframe=train_data,\n",
    "        directory='./',\n",
    "        x_col=\"ImgPath\",\n",
    "        y_col=\"isCancerous\",\n",
    "        target_size=(32, 32),\n",
    "        batch_size=batch_size,\n",
    "        class_mode='categorical')\n",
    "\n",
    "validation_generator = val_datagen.flow_from_dataframe(\n",
    "        dataframe=val_data,\n",
    "        directory='./',\n",
    "        x_col=\"ImgPath\",\n",
    "        y_col=\"isCancerous\",\n",
    "        target_size=(32, 32),\n",
    "        batch_size=batch_size,\n",
    "        class_mode='categorical')"
   ]
  },
  {
   "cell_type": "markdown",
   "id": "ae209e9e",
   "metadata": {},
   "source": [
    "## Evaluation Metrics <a id='ef'></a>"
   ]
  },
  {
   "cell_type": "markdown",
   "id": "7612b999",
   "metadata": {},
   "source": [
    "As observed from the EDA, `isCancerous` has 2 categories and the data in each was not evenly distributed. Therefore, we decided to use the F1 score as it provides the mean between recall and precision where precision measures the proportion of true positives over the total number of predicted positives, while recall measures the proportion of true positives over the total number of actual positives.\n",
    "\n",
    "We predefined a class that calculates the precision and recall then calculates the F1 score."
   ]
  },
  {
   "cell_type": "code",
   "execution_count": 13,
   "id": "06342ea7",
   "metadata": {},
   "outputs": [],
   "source": [
    "class F1Score(tf.keras.metrics.Metric):\n",
    "    def __init__(self, name='f1_score', **kwargs):\n",
    "        super(F1Score, self).__init__(name=name, **kwargs)\n",
    "        self.precision = tf.keras.metrics.Precision()\n",
    "        self.recall = tf.keras.metrics.Recall()\n",
    "\n",
    "    def update_state(self, y_true, y_pred, sample_weight=None):\n",
    "        self.precision.update_state(y_true, y_pred, sample_weight)\n",
    "        self.recall.update_state(y_true, y_pred, sample_weight)\n",
    "\n",
    "    def result(self):\n",
    "        precision = self.precision.result()\n",
    "        recall = self.recall.result()\n",
    "        f1_score = 2 * ((precision * recall) / (precision + recall + tf.keras.backend.epsilon()))\n",
    "        return f1_score\n",
    "\n",
    "    def reset_states(self):\n",
    "        self.precision.reset_states()\n",
    "        self.recall.reset_states()"
   ]
  },
  {
   "cell_type": "markdown",
   "id": "53a67995",
   "metadata": {},
   "source": [
    "## Basline Model <a id='base'></a>"
   ]
  },
  {
   "cell_type": "markdown",
   "id": "20291ac0",
   "metadata": {},
   "source": [
    "For our baseline model, we have decided to implement a Convolutional Neural Network as it uses sparse connectivity between layers, which reduces the number of parameters required to train the model and reduces overfitting. It also learns hierarchical features from raw pixels and they can be used for a wide variety of image-related tasks, such as image recognition, image segmentation, and image generation. This is ideal for us as we are using cell images to classify wether they are cancerous or not.\n",
    "\n",
    "We will first define a function that plot the graphs of loss against epochs and f1_score against epochs."
   ]
  },
  {
   "cell_type": "code",
   "execution_count": 14,
   "id": "2bd54824",
   "metadata": {},
   "outputs": [],
   "source": [
    "# Code taken from Week08 lab\n",
    "def plot_learning_curve(train_loss, val_loss, train_metric, val_metric, metric_name='F1 Score'):\n",
    "    plt.figure(figsize=(10,5))\n",
    "    \n",
    "    plt.subplot(1,2,1)\n",
    "    plt.plot(train_loss, 'r-')\n",
    "    plt.plot(val_loss, 'b-')\n",
    "    plt.xlabel(\"epochs\")\n",
    "    plt.ylabel(\"Loss\")\n",
    "    plt.legend(['train', 'val'], loc='upper left')\n",
    "\n",
    "    plt.subplot(1,2,2)\n",
    "    plt.plot(train_metric, 'r-')\n",
    "    plt.plot(val_metric, 'b-')\n",
    "    plt.xlabel(\"epochs\")\n",
    "    plt.ylabel(metric_name)\n",
    "    plt.legend(['train', 'val'], loc='upper left')\n",
    "\n",
    "    plt.show()"
   ]
  },
  {
   "cell_type": "markdown",
   "id": "a9968565",
   "metadata": {},
   "source": [
    "Next we will set up the base layers. Initially I will be using 256 hidden layers"
   ]
  },
  {
   "cell_type": "code",
   "execution_count": 15,
   "id": "58fd9b2a",
   "metadata": {},
   "outputs": [],
   "source": [
    "INPUT_DIM = (28,28,3)\n",
    "HIDDEN_LAYER_DIM = 256\n",
    "OUTPUT_CLASSES = 2"
   ]
  },
  {
   "cell_type": "code",
   "execution_count": 16,
   "id": "cea222a1",
   "metadata": {},
   "outputs": [
    {
     "name": "stdout",
     "output_type": "stream",
     "text": [
      "Model: \"sequential\"\n",
      "_________________________________________________________________\n",
      " Layer (type)                Output Shape              Param #   \n",
      "=================================================================\n",
      " conv2d (Conv2D)             (None, 32, 32, 32)        896       \n",
      "                                                                 \n",
      " conv2d_1 (Conv2D)           (None, 32, 32, 32)        9248      \n",
      "                                                                 \n",
      " max_pooling2d (MaxPooling2D  (None, 16, 16, 32)       0         \n",
      " )                                                               \n",
      "                                                                 \n",
      " conv2d_2 (Conv2D)           (None, 16, 16, 64)        18496     \n",
      "                                                                 \n",
      " conv2d_3 (Conv2D)           (None, 16, 16, 64)        36928     \n",
      "                                                                 \n",
      " max_pooling2d_1 (MaxPooling  (None, 8, 8, 64)         0         \n",
      " 2D)                                                             \n",
      "                                                                 \n",
      " conv2d_4 (Conv2D)           (None, 8, 8, 128)         73856     \n",
      "                                                                 \n",
      " conv2d_5 (Conv2D)           (None, 8, 8, 128)         147584    \n",
      "                                                                 \n",
      " max_pooling2d_2 (MaxPooling  (None, 4, 4, 128)        0         \n",
      " 2D)                                                             \n",
      "                                                                 \n",
      " flatten (Flatten)           (None, 2048)              0         \n",
      "                                                                 \n",
      " dense (Dense)               (None, 128)               262272    \n",
      "                                                                 \n",
      " dense_1 (Dense)             (None, 2)                 258       \n",
      "                                                                 \n",
      "=================================================================\n",
      "Total params: 549,538\n",
      "Trainable params: 549,538\n",
      "Non-trainable params: 0\n",
      "_________________________________________________________________\n"
     ]
    }
   ],
   "source": [
    "# Code taken from Week08 lab\n",
    "model = tf.keras.Sequential([\n",
    "    #VGG block 1\n",
    "    tf.keras.layers.Conv2D(32, (3, 3), activation='relu', padding='same', input_shape=(32, 32, 3)),\n",
    "    tf.keras.layers.Conv2D(32, (3, 3), activation='relu', padding='same'),\n",
    "    tf.keras.layers.MaxPooling2D((2, 2)),\n",
    "    \n",
    "    #VGG block 2\n",
    "    tf.keras.layers.Conv2D(64, (3, 3), activation='relu', padding='same'),\n",
    "    tf.keras.layers.Conv2D(64, (3, 3), activation='relu', padding='same'),\n",
    "    tf.keras.layers.MaxPooling2D((2, 2)),\n",
    "    \n",
    "    #VGG block 3\n",
    "    tf.keras.layers.Conv2D(128, (3, 3), activation='relu', padding='same'),\n",
    "    tf.keras.layers.Conv2D(128, (3, 3), activation='relu', padding='same'),\n",
    "    tf.keras.layers.MaxPooling2D((2, 2)),\n",
    "    \n",
    "    tf.keras.layers.Flatten(),\n",
    "    tf.keras.layers.Dense(128, activation='relu'),\n",
    "    tf.keras.layers.Dense(OUTPUT_CLASSES),\n",
    "])\n",
    "\n",
    "model.summary()\n"
   ]
  },
  {
   "cell_type": "code",
   "execution_count": 17,
   "id": "94a32ab2",
   "metadata": {
    "scrolled": true
   },
   "outputs": [
    {
     "name": "stdout",
     "output_type": "stream",
     "text": [
      "Epoch 1/25\n"
     ]
    },
    {
     "name": "stderr",
     "output_type": "stream",
     "text": [
      "C:\\Users\\penus\\AppData\\Local\\Temp\\ipykernel_7248\\1967811223.py:8: UserWarning: `Model.fit_generator` is deprecated and will be removed in a future version. Please use `Model.fit`, which supports generators.\n",
      "  history_model = model.fit_generator(train_generator, validation_data = validation_generator, epochs=25,callbacks=[tensorboard_callback])\n"
     ]
    },
    {
     "name": "stdout",
     "output_type": "stream",
     "text": [
      "186/186 [==============================] - ETA: 0s - loss: 0.6495 - f1_score: 0.3437"
     ]
    },
    {
     "name": "stderr",
     "output_type": "stream",
     "text": [
      "C:\\Users\\penus\\anaconda3\\lib\\site-packages\\keras\\engine\\training.py:2319: UserWarning: Metric F1Score implements a `reset_states()` method; rename it to `reset_state()` (without the final \"s\"). The name `reset_states()` has been deprecated to improve API consistency.\n",
      "  m.reset_state()\n"
     ]
    },
    {
     "name": "stdout",
     "output_type": "stream",
     "text": [
      "186/186 [==============================] - 18s 90ms/step - loss: 0.6495 - f1_score: 0.3437 - val_loss: 0.3968 - val_f1_score: 0.8136\n",
      "Epoch 2/25\n",
      "186/186 [==============================] - 16s 88ms/step - loss: 0.4309 - f1_score: 0.7869 - val_loss: 0.3414 - val_f1_score: 0.8438\n",
      "Epoch 3/25\n",
      "186/186 [==============================] - 14s 77ms/step - loss: 0.3628 - f1_score: 0.8337 - val_loss: 0.3052 - val_f1_score: 0.8604\n",
      "Epoch 4/25\n",
      "186/186 [==============================] - 14s 77ms/step - loss: 0.3663 - f1_score: 0.8229 - val_loss: 0.4014 - val_f1_score: 0.8341\n",
      "Epoch 5/25\n",
      "186/186 [==============================] - 15s 78ms/step - loss: 0.3478 - f1_score: 0.8392 - val_loss: 0.3256 - val_f1_score: 0.8552\n",
      "Epoch 6/25\n",
      "186/186 [==============================] - 15s 78ms/step - loss: 0.2976 - f1_score: 0.8647 - val_loss: 0.2653 - val_f1_score: 0.8836\n",
      "Epoch 7/25\n",
      "186/186 [==============================] - 16s 88ms/step - loss: 0.3001 - f1_score: 0.8657 - val_loss: 0.3541 - val_f1_score: 0.8290\n",
      "Epoch 8/25\n",
      "186/186 [==============================] - 16s 85ms/step - loss: 0.2911 - f1_score: 0.8696 - val_loss: 0.2699 - val_f1_score: 0.8863\n",
      "Epoch 9/25\n",
      "186/186 [==============================] - 15s 83ms/step - loss: 0.2745 - f1_score: 0.8806 - val_loss: 0.2727 - val_f1_score: 0.8755\n",
      "Epoch 10/25\n",
      "186/186 [==============================] - 15s 80ms/step - loss: 0.2568 - f1_score: 0.8908 - val_loss: 0.2700 - val_f1_score: 0.8841\n",
      "Epoch 11/25\n",
      "186/186 [==============================] - 15s 81ms/step - loss: 0.2635 - f1_score: 0.8839 - val_loss: 0.2557 - val_f1_score: 0.8866\n",
      "Epoch 12/25\n",
      "186/186 [==============================] - 14s 78ms/step - loss: 0.2383 - f1_score: 0.9007 - val_loss: 0.2722 - val_f1_score: 0.8873\n",
      "Epoch 13/25\n",
      "186/186 [==============================] - 15s 78ms/step - loss: 0.2366 - f1_score: 0.8971 - val_loss: 0.2608 - val_f1_score: 0.8783\n",
      "Epoch 14/25\n",
      "186/186 [==============================] - 15s 78ms/step - loss: 0.2260 - f1_score: 0.9060 - val_loss: 0.2906 - val_f1_score: 0.8707\n",
      "Epoch 15/25\n",
      "186/186 [==============================] - 15s 78ms/step - loss: 0.2241 - f1_score: 0.9047 - val_loss: 0.2549 - val_f1_score: 0.8956\n",
      "Epoch 16/25\n",
      "186/186 [==============================] - 15s 79ms/step - loss: 0.1874 - f1_score: 0.9223 - val_loss: 0.2852 - val_f1_score: 0.8665\n",
      "Epoch 17/25\n",
      "186/186 [==============================] - 16s 84ms/step - loss: 0.1934 - f1_score: 0.9192 - val_loss: 0.2627 - val_f1_score: 0.8866\n",
      "Epoch 18/25\n",
      "186/186 [==============================] - 17s 90ms/step - loss: 0.1623 - f1_score: 0.9358 - val_loss: 0.2942 - val_f1_score: 0.8766\n",
      "Epoch 19/25\n",
      "186/186 [==============================] - 16s 88ms/step - loss: 0.1524 - f1_score: 0.9347 - val_loss: 0.3073 - val_f1_score: 0.8938\n",
      "Epoch 20/25\n",
      "186/186 [==============================] - 17s 90ms/step - loss: 0.1434 - f1_score: 0.9412 - val_loss: 0.3348 - val_f1_score: 0.8682\n",
      "Epoch 21/25\n",
      "186/186 [==============================] - 15s 82ms/step - loss: 0.1221 - f1_score: 0.9507 - val_loss: 0.3613 - val_f1_score: 0.8690\n",
      "Epoch 22/25\n",
      "186/186 [==============================] - 14s 75ms/step - loss: 0.1374 - f1_score: 0.9440 - val_loss: 0.3388 - val_f1_score: 0.8937\n",
      "Epoch 23/25\n",
      "186/186 [==============================] - 15s 80ms/step - loss: 0.0958 - f1_score: 0.9624 - val_loss: 0.3530 - val_f1_score: 0.8903\n",
      "Epoch 24/25\n",
      "186/186 [==============================] - 15s 78ms/step - loss: 0.0970 - f1_score: 0.9644 - val_loss: 0.5364 - val_f1_score: 0.8295\n",
      "Epoch 25/25\n",
      "186/186 [==============================] - 15s 78ms/step - loss: 0.0917 - f1_score: 0.9628 - val_loss: 0.4288 - val_f1_score: 0.8895\n"
     ]
    }
   ],
   "source": [
    "# Code taken from Week08 lab\n",
    "model.compile(optimizer='adam',\n",
    "              loss=tf.keras.losses.BinaryCrossentropy(from_logits=True),\n",
    "              metrics=[F1Score()])\n",
    "\n",
    "logdir='logs'\n",
    "tensorboard_callback = tf.keras.callbacks.TensorBoard(log_dir=logdir)\n",
    "history_model = model.fit_generator(train_generator, validation_data = validation_generator, epochs=25,callbacks=[tensorboard_callback])\n"
   ]
  },
  {
   "cell_type": "code",
   "execution_count": 18,
   "id": "68fb1da3",
   "metadata": {
    "scrolled": true
   },
   "outputs": [
    {
     "data": {
      "image/png": "[encoded data removed]",
      "text/plain": [
       "<Figure size 720x360 with 2 Axes>"
      ]
     },
     "metadata": {
      "needs_background": "light"
     },
     "output_type": "display_data"
    }
   ],
   "source": [
    "plot_learning_curve(history_model.history['loss'], history_model.history['val_loss'], \n",
    "                    history_model.history['f1_score'], history_model.history['val_f1_score'], \n",
    "                    metric_name='F1 Score')\n"
   ]
  },
  {
   "cell_type": "markdown",
   "id": "6cfe1a58",
   "metadata": {},
   "source": [
    "The model shows a high F1 score and low loss on training data as number of epochs increase. On the other hand, for validation data as the epochs increase the loss increases and F1 score decreases. This is a sign of over fitting of the training data. We will apply regularization in order to minimize the effect of over fitting."
   ]
  },
  {
   "cell_type": "markdown",
   "id": "09a525c8",
   "metadata": {},
   "source": [
    "## Regularization <a id='reg'></a>"
   ]
  },
  {
   "cell_type": "markdown",
   "id": "51f18cf8",
   "metadata": {},
   "source": [
    "We will use L2 regularization with a lambda value of 0.01 on our model as the baseline model was over-fitting as a lower lambda value is generally good for fixing overfitting because it reduces the strength of the regularization term in the loss function."
   ]
  },
  {
   "cell_type": "code",
   "execution_count": 19,
   "id": "e6ffa36c",
   "metadata": {},
   "outputs": [
    {
     "name": "stdout",
     "output_type": "stream",
     "text": [
      "Epoch 1/25\n",
      "186/186 [==============================] - 16s 81ms/step - loss: 1.0854 - f1_score: 0.0913 - val_loss: 0.6949 - val_f1_score: 0.0000e+00\n",
      "Epoch 2/25\n",
      "186/186 [==============================] - 15s 79ms/step - loss: 0.6884 - f1_score: 0.0850 - val_loss: 0.6854 - val_f1_score: 0.0000e+00\n",
      "Epoch 3/25\n",
      "186/186 [==============================] - 15s 78ms/step - loss: 0.6824 - f1_score: 0.0000e+00 - val_loss: 0.6776 - val_f1_score: 0.0000e+00\n",
      "Epoch 4/25\n",
      "186/186 [==============================] - 15s 78ms/step - loss: 0.6804 - f1_score: 0.0000e+00 - val_loss: 0.6771 - val_f1_score: 0.0000e+00\n",
      "Epoch 5/25\n",
      "186/186 [==============================] - 15s 78ms/step - loss: 0.6804 - f1_score: 0.0000e+00 - val_loss: 0.6776 - val_f1_score: 0.0000e+00\n",
      "Epoch 6/25\n",
      "186/186 [==============================] - 15s 79ms/step - loss: 0.6800 - f1_score: 0.0000e+00 - val_loss: 0.6771 - val_f1_score: 0.0000e+00\n",
      "Epoch 7/25\n",
      "186/186 [==============================] - 14s 78ms/step - loss: 0.6798 - f1_score: 0.0000e+00 - val_loss: 0.6766 - val_f1_score: 0.0000e+00\n",
      "Epoch 8/25\n",
      "186/186 [==============================] - 14s 78ms/step - loss: 0.6797 - f1_score: 0.0093 - val_loss: 0.6766 - val_f1_score: 0.0000e+00\n",
      "Epoch 9/25\n",
      "186/186 [==============================] - 15s 78ms/step - loss: 0.6798 - f1_score: 0.0000e+00 - val_loss: 0.6771 - val_f1_score: 0.0000e+00\n",
      "Epoch 10/25\n",
      "186/186 [==============================] - 14s 78ms/step - loss: 0.6797 - f1_score: 0.0000e+00 - val_loss: 0.6776 - val_f1_score: 0.0000e+00\n",
      "Epoch 11/25\n",
      "186/186 [==============================] - 14s 78ms/step - loss: 0.6798 - f1_score: 0.0000e+00 - val_loss: 0.6774 - val_f1_score: 0.0000e+00\n",
      "Epoch 12/25\n",
      "186/186 [==============================] - 14s 76ms/step - loss: 0.6798 - f1_score: 0.0000e+00 - val_loss: 0.6773 - val_f1_score: 0.0000e+00\n",
      "Epoch 13/25\n",
      "186/186 [==============================] - 14s 75ms/step - loss: 0.6799 - f1_score: 0.0000e+00 - val_loss: 0.6767 - val_f1_score: 0.0000e+00\n",
      "Epoch 14/25\n",
      "186/186 [==============================] - 15s 78ms/step - loss: 0.6796 - f1_score: 0.0000e+00 - val_loss: 0.6766 - val_f1_score: 0.0000e+00\n",
      "Epoch 15/25\n",
      "186/186 [==============================] - 15s 80ms/step - loss: 0.6799 - f1_score: 0.0000e+00 - val_loss: 0.6767 - val_f1_score: 0.0000e+00\n",
      "Epoch 16/25\n",
      "186/186 [==============================] - 15s 79ms/step - loss: 0.6798 - f1_score: 0.0000e+00 - val_loss: 0.6767 - val_f1_score: 0.0000e+00\n",
      "Epoch 17/25\n",
      "186/186 [==============================] - 15s 79ms/step - loss: 0.6797 - f1_score: 0.0000e+00 - val_loss: 0.6766 - val_f1_score: 0.0000e+00\n",
      "Epoch 18/25\n",
      "186/186 [==============================] - 14s 73ms/step - loss: 0.6797 - f1_score: 0.0000e+00 - val_loss: 0.6766 - val_f1_score: 0.0000e+00\n",
      "Epoch 19/25\n",
      "186/186 [==============================] - 14s 75ms/step - loss: 0.6796 - f1_score: 0.0000e+00 - val_loss: 0.6766 - val_f1_score: 0.0000e+00\n",
      "Epoch 20/25\n",
      "186/186 [==============================] - 14s 78ms/step - loss: 0.6796 - f1_score: 0.0000e+00 - val_loss: 0.6767 - val_f1_score: 0.0000e+00\n",
      "Epoch 21/25\n",
      "186/186 [==============================] - 15s 78ms/step - loss: 0.6797 - f1_score: 0.0000e+00 - val_loss: 0.6770 - val_f1_score: 0.0000e+00\n",
      "Epoch 22/25\n",
      "186/186 [==============================] - 14s 78ms/step - loss: 0.6796 - f1_score: 0.0000e+00 - val_loss: 0.6769 - val_f1_score: 0.0000e+00\n",
      "Epoch 23/25\n",
      "186/186 [==============================] - 14s 78ms/step - loss: 0.6796 - f1_score: 0.0000e+00 - val_loss: 0.6774 - val_f1_score: 0.0000e+00\n",
      "Epoch 24/25\n",
      "186/186 [==============================] - 14s 78ms/step - loss: 0.6795 - f1_score: 0.0000e+00 - val_loss: 0.6776 - val_f1_score: 0.0000e+00\n",
      "Epoch 25/25\n",
      "186/186 [==============================] - 14s 78ms/step - loss: 0.6798 - f1_score: 0.0000e+00 - val_loss: 0.6775 - val_f1_score: 0.0000e+00\n"
     ]
    },
    {
     "data": {
      "image/png": "[encoded data removed]",
      "text/plain": [
       "<Figure size 720x360 with 2 Axes>"
      ]
     },
     "metadata": {
      "needs_background": "light"
     },
     "output_type": "display_data"
    }
   ],
   "source": [
    "reg_lambda = 0.01\n",
    "\n",
    "model_reg2 = tf.keras.Sequential([\n",
    "    #VGG block 1\n",
    "    tf.keras.layers.Conv2D(32, (3, 3), activation='relu', padding='same', \n",
    "                           kernel_regularizer=tf.keras.regularizers.l2(reg_lambda), input_shape=(32, 32, 3)),\n",
    "    tf.keras.layers.Conv2D(32, (3, 3), activation='relu', padding='same', \n",
    "                           kernel_regularizer=tf.keras.regularizers.l2(reg_lambda)),\n",
    "    tf.keras.layers.MaxPooling2D((2, 2)),\n",
    "    \n",
    "    #VGG block 2\n",
    "    tf.keras.layers.Conv2D(64, (3, 3), activation='relu', padding='same', \n",
    "                           kernel_regularizer=tf.keras.regularizers.l2(reg_lambda)),\n",
    "    tf.keras.layers.Conv2D(64, (3, 3), activation='relu', padding='same', \n",
    "                           kernel_regularizer=tf.keras.regularizers.l2(reg_lambda)),\n",
    "    tf.keras.layers.MaxPooling2D((2, 2)),\n",
    "    \n",
    "    #VGG block 3\n",
    "    tf.keras.layers.Conv2D(128, (3, 3), activation='relu', padding='same', \n",
    "                           kernel_regularizer=tf.keras.regularizers.l2(reg_lambda)),\n",
    "    tf.keras.layers.Conv2D(128, (3, 3), activation='relu', padding='same', \n",
    "                           kernel_regularizer=tf.keras.regularizers.l2(reg_lambda)),\n",
    "    tf.keras.layers.MaxPooling2D((2, 2)),\n",
    "    \n",
    "    tf.keras.layers.Flatten(),\n",
    "    tf.keras.layers.Dense(128, activation='relu'),\n",
    "    tf.keras.layers.Dense(OUTPUT_CLASSES),\n",
    "])\n",
    "\n",
    "model_reg2.compile(optimizer='adam',\n",
    "              loss=tf.keras.losses.BinaryCrossentropy(from_logits=True),\n",
    "              metrics=[F1Score()])\n",
    "\n",
    "logdir='logs'\n",
    "tensorboard_callback = tf.keras.callbacks.TensorBoard(log_dir=logdir)\n",
    "history_model_reg2 = model_reg2.fit(train_generator, epochs=25, validation_data=validation_generator, callbacks=[tensorboard_callback])\n",
    "\n",
    "plot_learning_curve(history_model_reg2.history['loss'], history_model_reg2.history['val_loss'], \n",
    "                    history_model_reg2.history['f1_score'], history_model_reg2.history['val_f1_score'], \n",
    "                    metric_name='F1 score')"
   ]
  },
  {
   "cell_type": "markdown",
   "id": "67baf5c1",
   "metadata": {},
   "source": [
    "The lambda value of 0.01 adversely affected the model. The F1 score for validation data goes down to 0 which is not ideal for a good CNN. I will decrease the lambda value and fit the model to mimize overfitting. "
   ]
  },
  {
   "cell_type": "code",
   "execution_count": 20,
   "id": "28f6f9a2",
   "metadata": {},
   "outputs": [
    {
     "name": "stdout",
     "output_type": "stream",
     "text": [
      "Epoch 1/25\n",
      "186/186 [==============================] - 16s 80ms/step - loss: 0.6205 - f1_score: 0.6216 - val_loss: 0.5955 - val_f1_score: 0.7753\n",
      "Epoch 2/25\n",
      "186/186 [==============================] - 15s 79ms/step - loss: 0.4488 - f1_score: 0.7963 - val_loss: 0.4107 - val_f1_score: 0.8093\n",
      "Epoch 3/25\n",
      "186/186 [==============================] - 15s 78ms/step - loss: 0.3962 - f1_score: 0.8271 - val_loss: 0.3657 - val_f1_score: 0.8483\n",
      "Epoch 4/25\n",
      "186/186 [==============================] - 15s 78ms/step - loss: 0.3602 - f1_score: 0.8469 - val_loss: 0.3894 - val_f1_score: 0.8318\n",
      "Epoch 5/25\n",
      "186/186 [==============================] - 15s 79ms/step - loss: 0.3627 - f1_score: 0.8409 - val_loss: 0.3469 - val_f1_score: 0.8548\n",
      "Epoch 6/25\n",
      "186/186 [==============================] - 15s 81ms/step - loss: 0.3372 - f1_score: 0.8579 - val_loss: 0.4181 - val_f1_score: 0.8214\n",
      "Epoch 7/25\n",
      "186/186 [==============================] - 15s 80ms/step - loss: 0.3391 - f1_score: 0.8546 - val_loss: 0.3141 - val_f1_score: 0.8656\n",
      "Epoch 8/25\n",
      "186/186 [==============================] - 15s 78ms/step - loss: 0.3295 - f1_score: 0.8587 - val_loss: 0.3026 - val_f1_score: 0.8755\n",
      "Epoch 9/25\n",
      "186/186 [==============================] - 15s 79ms/step - loss: 0.3371 - f1_score: 0.8537 - val_loss: 0.3668 - val_f1_score: 0.8349\n",
      "Epoch 10/25\n",
      "186/186 [==============================] - 15s 79ms/step - loss: 0.3158 - f1_score: 0.8655 - val_loss: 0.3540 - val_f1_score: 0.8482\n",
      "Epoch 11/25\n",
      "186/186 [==============================] - 16s 84ms/step - loss: 0.3224 - f1_score: 0.8636 - val_loss: 0.2871 - val_f1_score: 0.8865\n",
      "Epoch 12/25\n",
      "186/186 [==============================] - 15s 78ms/step - loss: 0.3064 - f1_score: 0.8748 - val_loss: 0.2973 - val_f1_score: 0.8817\n",
      "Epoch 13/25\n",
      "186/186 [==============================] - 14s 76ms/step - loss: 0.3171 - f1_score: 0.8687 - val_loss: 0.2775 - val_f1_score: 0.8910\n",
      "Epoch 14/25\n",
      "186/186 [==============================] - 14s 75ms/step - loss: 0.2994 - f1_score: 0.8790 - val_loss: 0.2899 - val_f1_score: 0.8824\n",
      "Epoch 15/25\n",
      "186/186 [==============================] - 14s 74ms/step - loss: 0.3177 - f1_score: 0.8654 - val_loss: 0.3024 - val_f1_score: 0.8856\n",
      "Epoch 16/25\n",
      "186/186 [==============================] - 14s 74ms/step - loss: 0.2971 - f1_score: 0.8785 - val_loss: 0.2769 - val_f1_score: 0.8888\n",
      "Epoch 17/25\n",
      "186/186 [==============================] - 14s 77ms/step - loss: 0.2917 - f1_score: 0.8806 - val_loss: 0.2674 - val_f1_score: 0.8940\n",
      "Epoch 18/25\n",
      "186/186 [==============================] - 14s 74ms/step - loss: 0.2845 - f1_score: 0.8857 - val_loss: 0.2944 - val_f1_score: 0.8832\n",
      "Epoch 19/25\n",
      "186/186 [==============================] - 14s 74ms/step - loss: 0.2858 - f1_score: 0.8850 - val_loss: 0.2962 - val_f1_score: 0.8792\n",
      "Epoch 20/25\n",
      "186/186 [==============================] - 14s 76ms/step - loss: 0.2845 - f1_score: 0.8863 - val_loss: 0.2923 - val_f1_score: 0.8822\n",
      "Epoch 21/25\n",
      "186/186 [==============================] - 14s 78ms/step - loss: 0.2931 - f1_score: 0.8847 - val_loss: 0.3286 - val_f1_score: 0.8502\n",
      "Epoch 22/25\n",
      "186/186 [==============================] - 14s 74ms/step - loss: 0.2685 - f1_score: 0.8940 - val_loss: 0.3398 - val_f1_score: 0.8538\n",
      "Epoch 23/25\n",
      "186/186 [==============================] - 14s 75ms/step - loss: 0.2817 - f1_score: 0.8862 - val_loss: 0.2672 - val_f1_score: 0.8948\n",
      "Epoch 24/25\n",
      "186/186 [==============================] - 14s 75ms/step - loss: 0.2731 - f1_score: 0.8926 - val_loss: 0.2874 - val_f1_score: 0.8938\n",
      "Epoch 25/25\n",
      "186/186 [==============================] - 14s 76ms/step - loss: 0.2672 - f1_score: 0.8924 - val_loss: 0.2722 - val_f1_score: 0.8976\n"
     ]
    },
    {
     "data": {
      "image/png": "[encoded data removed]",
      "text/plain": [
       "<Figure size 720x360 with 2 Axes>"
      ]
     },
     "metadata": {
      "needs_background": "light"
     },
     "output_type": "display_data"
    }
   ],
   "source": [
    "reg_lambda = 0.001\n",
    "\n",
    "model_reg = tf.keras.Sequential([\n",
    "    #VGG block 1\n",
    "    tf.keras.layers.Conv2D(32, (3, 3), activation='relu', padding='same', \n",
    "                           kernel_regularizer=tf.keras.regularizers.l2(reg_lambda), input_shape=(32, 32, 3)),\n",
    "    tf.keras.layers.Conv2D(32, (3, 3), activation='relu', padding='same', \n",
    "                           kernel_regularizer=tf.keras.regularizers.l2(reg_lambda)),\n",
    "    tf.keras.layers.MaxPooling2D((2, 2)),\n",
    "    \n",
    "    #VGG block 2\n",
    "    tf.keras.layers.Conv2D(64, (3, 3), activation='relu', padding='same', \n",
    "                           kernel_regularizer=tf.keras.regularizers.l2(reg_lambda)),\n",
    "    tf.keras.layers.Conv2D(64, (3, 3), activation='relu', padding='same', \n",
    "                           kernel_regularizer=tf.keras.regularizers.l2(reg_lambda)),\n",
    "    tf.keras.layers.MaxPooling2D((2, 2)),\n",
    "    \n",
    "    #VGG block 3\n",
    "    tf.keras.layers.Conv2D(128, (3, 3), activation='relu', padding='same', \n",
    "                           kernel_regularizer=tf.keras.regularizers.l2(reg_lambda)),\n",
    "    tf.keras.layers.Conv2D(128, (3, 3), activation='relu', padding='same', \n",
    "                           kernel_regularizer=tf.keras.regularizers.l2(reg_lambda)),\n",
    "    tf.keras.layers.MaxPooling2D((2, 2)),\n",
    "    \n",
    "    tf.keras.layers.Flatten(),\n",
    "    tf.keras.layers.Dense(128, activation='relu'),\n",
    "    tf.keras.layers.Dense(OUTPUT_CLASSES),\n",
    "])\n",
    "\n",
    "model_reg.compile(optimizer='adam',\n",
    "              loss=tf.keras.losses.BinaryCrossentropy(from_logits=True),\n",
    "              metrics=[F1Score()])\n",
    "\n",
    "logdir='logs'\n",
    "tensorboard_callback = tf.keras.callbacks.TensorBoard(log_dir=logdir)\n",
    "history_model_reg = model_reg.fit(train_generator, epochs=25, validation_data=validation_generator, callbacks=[tensorboard_callback])\n",
    "\n",
    "plot_learning_curve(history_model_reg.history['loss'], history_model_reg.history['val_loss'], \n",
    "                    history_model_reg.history['f1_score'], history_model_reg.history['val_f1_score'], \n",
    "                    metric_name='F1 Score')"
   ]
  },
  {
   "cell_type": "markdown",
   "id": "ae82b66b",
   "metadata": {},
   "source": [
    "Using a lambda value of 0.001 has improved the performance of the model. The model does not have any over-fitting and the F1 score for validation data has increased to around 90% and a loss of about 0.25. "
   ]
  },
  {
   "cell_type": "markdown",
   "id": "1784fae7",
   "metadata": {},
   "source": [
    "Next, we will add a dropout layer as it would help in preventing any overfitting by reducing the complexity of the model and preventing it from memorizing the training data too closely. This would force the model to learn more robust features that are useful for making predictions, rather than relying too heavily on a small number of highly influential neurons."
   ]
  },
  {
   "cell_type": "code",
   "execution_count": 21,
   "id": "00fefe80",
   "metadata": {},
   "outputs": [
    {
     "name": "stdout",
     "output_type": "stream",
     "text": [
      "Epoch 1/25\n",
      "186/186 [==============================] - 16s 78ms/step - loss: 0.7206 - f1_score: 0.3399 - val_loss: 0.5995 - val_f1_score: 0.7554\n",
      "Epoch 2/25\n",
      "186/186 [==============================] - 14s 76ms/step - loss: 0.4766 - f1_score: 0.7674 - val_loss: 0.3620 - val_f1_score: 0.8443\n",
      "Epoch 3/25\n",
      "186/186 [==============================] - 15s 80ms/step - loss: 0.3801 - f1_score: 0.8359 - val_loss: 0.3317 - val_f1_score: 0.8580\n",
      "Epoch 4/25\n",
      "186/186 [==============================] - 14s 76ms/step - loss: 0.3602 - f1_score: 0.8494 - val_loss: 0.3856 - val_f1_score: 0.8223\n",
      "Epoch 5/25\n",
      "186/186 [==============================] - 14s 77ms/step - loss: 0.3622 - f1_score: 0.8468 - val_loss: 0.3617 - val_f1_score: 0.8479\n",
      "Epoch 6/25\n",
      "186/186 [==============================] - 15s 78ms/step - loss: 0.3799 - f1_score: 0.8331 - val_loss: 0.3289 - val_f1_score: 0.8609\n",
      "Epoch 7/25\n",
      "186/186 [==============================] - 15s 78ms/step - loss: 0.3614 - f1_score: 0.8465 - val_loss: 0.3178 - val_f1_score: 0.8689\n",
      "Epoch 8/25\n",
      "186/186 [==============================] - 14s 77ms/step - loss: 0.3491 - f1_score: 0.8531 - val_loss: 0.3102 - val_f1_score: 0.8658\n",
      "Epoch 9/25\n",
      "186/186 [==============================] - 14s 77ms/step - loss: 0.3440 - f1_score: 0.8538 - val_loss: 0.3212 - val_f1_score: 0.8691\n",
      "Epoch 10/25\n",
      "186/186 [==============================] - 15s 78ms/step - loss: 0.3373 - f1_score: 0.8570 - val_loss: 0.3280 - val_f1_score: 0.8588\n",
      "Epoch 11/25\n",
      "186/186 [==============================] - 15s 78ms/step - loss: 0.3351 - f1_score: 0.8563 - val_loss: 0.3031 - val_f1_score: 0.8737\n",
      "Epoch 12/25\n",
      "186/186 [==============================] - 15s 78ms/step - loss: 0.3438 - f1_score: 0.8488 - val_loss: 0.4479 - val_f1_score: 0.7961\n",
      "Epoch 13/25\n",
      "186/186 [==============================] - 14s 75ms/step - loss: 0.3188 - f1_score: 0.8616 - val_loss: 0.2869 - val_f1_score: 0.8820\n",
      "Epoch 14/25\n",
      "186/186 [==============================] - 14s 77ms/step - loss: 0.3255 - f1_score: 0.8631 - val_loss: 0.2866 - val_f1_score: 0.8783\n",
      "Epoch 15/25\n",
      "186/186 [==============================] - 14s 74ms/step - loss: 0.3295 - f1_score: 0.8582 - val_loss: 0.3375 - val_f1_score: 0.8511\n",
      "Epoch 16/25\n",
      "186/186 [==============================] - 14s 76ms/step - loss: 0.3183 - f1_score: 0.8612 - val_loss: 0.2879 - val_f1_score: 0.8768\n",
      "Epoch 17/25\n",
      "186/186 [==============================] - 14s 76ms/step - loss: 0.3339 - f1_score: 0.8534 - val_loss: 0.3404 - val_f1_score: 0.8490\n",
      "Epoch 18/25\n",
      "186/186 [==============================] - 14s 76ms/step - loss: 0.3378 - f1_score: 0.8485 - val_loss: 0.3028 - val_f1_score: 0.8780\n",
      "Epoch 19/25\n",
      "186/186 [==============================] - 14s 75ms/step - loss: 0.3158 - f1_score: 0.8623 - val_loss: 0.2886 - val_f1_score: 0.8767\n",
      "Epoch 20/25\n",
      "186/186 [==============================] - 14s 74ms/step - loss: 0.3329 - f1_score: 0.8513 - val_loss: 0.2805 - val_f1_score: 0.8817\n",
      "Epoch 21/25\n",
      "186/186 [==============================] - 14s 75ms/step - loss: 0.3136 - f1_score: 0.8608 - val_loss: 0.2763 - val_f1_score: 0.8805\n",
      "Epoch 22/25\n",
      "186/186 [==============================] - 14s 75ms/step - loss: 0.3125 - f1_score: 0.8644 - val_loss: 0.2745 - val_f1_score: 0.8819\n",
      "Epoch 23/25\n",
      "186/186 [==============================] - 14s 76ms/step - loss: 0.3081 - f1_score: 0.8659 - val_loss: 0.3083 - val_f1_score: 0.8651\n",
      "Epoch 24/25\n",
      "186/186 [==============================] - 15s 80ms/step - loss: 0.3082 - f1_score: 0.8677 - val_loss: 0.2875 - val_f1_score: 0.8807\n",
      "Epoch 25/25\n",
      "186/186 [==============================] - 15s 79ms/step - loss: 0.3111 - f1_score: 0.8660 - val_loss: 0.3496 - val_f1_score: 0.8366\n"
     ]
    },
    {
     "data": {
      "image/png": "[encoded data removed]",
      "text/plain": [
       "<Figure size 720x360 with 2 Axes>"
      ]
     },
     "metadata": {
      "needs_background": "light"
     },
     "output_type": "display_data"
    }
   ],
   "source": [
    "reg_lambda = 0.001\n",
    "\n",
    "model_reg_drop = tf.keras.Sequential([\n",
    "    #VGG block 1\n",
    "    tf.keras.layers.Conv2D(32, (3, 3), activation='relu', padding='same', \n",
    "                           kernel_regularizer=tf.keras.regularizers.l2(reg_lambda), input_shape=(32, 32, 3)),\n",
    "    tf.keras.layers.Conv2D(32, (3, 3), activation='relu', padding='same', \n",
    "                           kernel_regularizer=tf.keras.regularizers.l2(reg_lambda)),\n",
    "    tf.keras.layers.MaxPooling2D((2, 2)),\n",
    "    \n",
    "    #VGG block 2\n",
    "    tf.keras.layers.Conv2D(64, (3, 3), activation='relu', padding='same', \n",
    "                           kernel_regularizer=tf.keras.regularizers.l2(reg_lambda)),\n",
    "    tf.keras.layers.Conv2D(64, (3, 3), activation='relu', padding='same', \n",
    "                           kernel_regularizer=tf.keras.regularizers.l2(reg_lambda)),\n",
    "    tf.keras.layers.MaxPooling2D((2, 2)),\n",
    "    \n",
    "    #VGG block 3\n",
    "    tf.keras.layers.Conv2D(128, (3, 3), activation='relu', padding='same', \n",
    "                           kernel_regularizer=tf.keras.regularizers.l2(reg_lambda)),\n",
    "    tf.keras.layers.Conv2D(128, (3, 3), activation='relu', padding='same', \n",
    "                           kernel_regularizer=tf.keras.regularizers.l2(reg_lambda)),\n",
    "    tf.keras.layers.MaxPooling2D((2, 2)),\n",
    "    \n",
    "    tf.keras.layers.Flatten(),\n",
    "    tf.keras.layers.Dense(128, activation='relu'),\n",
    "    tf.keras.layers.Dropout(.2),\n",
    "    tf.keras.layers.Dense(OUTPUT_CLASSES),\n",
    "])\n",
    "\n",
    "model_reg_drop.compile(optimizer='adam',\n",
    "              loss=tf.keras.losses.BinaryCrossentropy(from_logits=True),\n",
    "              metrics=[F1Score()])\n",
    "\n",
    "logdir='logs'\n",
    "tensorboard_callback = tf.keras.callbacks.TensorBoard(log_dir=logdir)\n",
    "history_model_reg_drop = model_reg_drop.fit(train_generator, epochs=25, validation_data=validation_generator, callbacks=[tensorboard_callback])\n",
    "\n",
    "plot_learning_curve(history_model_reg_drop.history['loss'], history_model_reg_drop.history['val_loss'], \n",
    "                    history_model_reg_drop.history['f1_score'], history_model_reg_drop.history['val_f1_score'], \n",
    "                    metric_name='F1 Score')"
   ]
  },
  {
   "cell_type": "markdown",
   "id": "26e054f3",
   "metadata": {},
   "source": [
    "Adding the dropout layer did not improve the mode. The loss is around 0.3. There is a signifacnt increase in loss around 13 epochs. The f1 score is less than 90% which means it is less efficient than 'model_reg'."
   ]
  },
  {
   "cell_type": "markdown",
   "id": "db2b1cb5",
   "metadata": {},
   "source": [
    "Next, we will try increasing the number of layers. For this, we will take the regularization with 0.001 lambda value and add another convolutional layer to see if there are any more improvements to the CNN."
   ]
  },
  {
   "cell_type": "code",
   "execution_count": 22,
   "id": "2cbc3db1",
   "metadata": {},
   "outputs": [
    {
     "name": "stdout",
     "output_type": "stream",
     "text": [
      "Epoch 1/25\n",
      "186/186 [==============================] - 18s 87ms/step - loss: 0.8029 - f1_score: 0.0743 - val_loss: 0.7140 - val_f1_score: 0.0000e+00\n",
      "Epoch 2/25\n",
      "186/186 [==============================] - 15s 83ms/step - loss: 0.7034 - f1_score: 0.0416 - val_loss: 0.6909 - val_f1_score: 0.0000e+00\n",
      "Epoch 3/25\n",
      "186/186 [==============================] - 16s 83ms/step - loss: 0.6900 - f1_score: 0.0000e+00 - val_loss: 0.6837 - val_f1_score: 0.0000e+00\n",
      "Epoch 4/25\n",
      "186/186 [==============================] - 16s 83ms/step - loss: 0.6853 - f1_score: 0.0000e+00 - val_loss: 0.6810 - val_f1_score: 0.0000e+00\n",
      "Epoch 5/25\n",
      "186/186 [==============================] - 15s 82ms/step - loss: 0.6833 - f1_score: 0.0000e+00 - val_loss: 0.6792 - val_f1_score: 0.0000e+00\n",
      "Epoch 6/25\n",
      "186/186 [==============================] - 15s 79ms/step - loss: 0.6818 - f1_score: 0.0000e+00 - val_loss: 0.6788 - val_f1_score: 0.0000e+00\n",
      "Epoch 7/25\n",
      "186/186 [==============================] - 15s 82ms/step - loss: 0.6811 - f1_score: 0.0000e+00 - val_loss: 0.6778 - val_f1_score: 0.0000e+00\n",
      "Epoch 8/25\n",
      "186/186 [==============================] - 16s 85ms/step - loss: 0.6808 - f1_score: 0.0000e+00 - val_loss: 0.6776 - val_f1_score: 0.0000e+00\n",
      "Epoch 9/25\n",
      "186/186 [==============================] - 15s 80ms/step - loss: 0.6805 - f1_score: 0.0000e+00 - val_loss: 0.6771 - val_f1_score: 0.0000e+00\n",
      "Epoch 10/25\n",
      "186/186 [==============================] - 15s 81ms/step - loss: 0.6804 - f1_score: 0.0000e+00 - val_loss: 0.6770 - val_f1_score: 0.0000e+00\n",
      "Epoch 11/25\n",
      "186/186 [==============================] - 15s 80ms/step - loss: 0.6800 - f1_score: 0.0000e+00 - val_loss: 0.6774 - val_f1_score: 0.0000e+00\n",
      "Epoch 12/25\n",
      "186/186 [==============================] - 15s 79ms/step - loss: 0.6800 - f1_score: 0.0000e+00 - val_loss: 0.6775 - val_f1_score: 0.0000e+00\n",
      "Epoch 13/25\n",
      "186/186 [==============================] - 15s 80ms/step - loss: 0.6800 - f1_score: 0.0000e+00 - val_loss: 0.6769 - val_f1_score: 0.0000e+00\n",
      "Epoch 14/25\n",
      "186/186 [==============================] - 15s 79ms/step - loss: 0.6800 - f1_score: 0.0000e+00 - val_loss: 0.6769 - val_f1_score: 0.0000e+00\n",
      "Epoch 15/25\n",
      "186/186 [==============================] - 15s 82ms/step - loss: 0.6794 - f1_score: 0.0000e+00 - val_loss: 0.6769 - val_f1_score: 0.0000e+00\n",
      "Epoch 16/25\n",
      "186/186 [==============================] - 15s 82ms/step - loss: 0.6799 - f1_score: 0.0000e+00 - val_loss: 0.6769 - val_f1_score: 0.0000e+00\n",
      "Epoch 17/25\n",
      "186/186 [==============================] - 15s 81ms/step - loss: 0.6798 - f1_score: 0.0000e+00 - val_loss: 0.6769 - val_f1_score: 0.0000e+00\n",
      "Epoch 18/25\n",
      "186/186 [==============================] - 16s 87ms/step - loss: 0.6796 - f1_score: 0.0000e+00 - val_loss: 0.6768 - val_f1_score: 0.0000e+00\n",
      "Epoch 19/25\n",
      "186/186 [==============================] - 16s 85ms/step - loss: 0.6799 - f1_score: 0.0000e+00 - val_loss: 0.6767 - val_f1_score: 0.0000e+00\n",
      "Epoch 20/25\n",
      "186/186 [==============================] - 16s 84ms/step - loss: 0.6798 - f1_score: 0.0000e+00 - val_loss: 0.6767 - val_f1_score: 0.0000e+00\n",
      "Epoch 21/25\n",
      "186/186 [==============================] - 16s 86ms/step - loss: 0.6796 - f1_score: 0.0000e+00 - val_loss: 0.6774 - val_f1_score: 0.0000e+00\n",
      "Epoch 22/25\n",
      "186/186 [==============================] - 16s 83ms/step - loss: 0.6796 - f1_score: 0.0000e+00 - val_loss: 0.6766 - val_f1_score: 0.0000e+00\n",
      "Epoch 23/25\n",
      "186/186 [==============================] - 16s 85ms/step - loss: 0.6797 - f1_score: 0.0000e+00 - val_loss: 0.6767 - val_f1_score: 0.0000e+00\n",
      "Epoch 24/25\n",
      "186/186 [==============================] - 16s 85ms/step - loss: 0.6797 - f1_score: 0.0000e+00 - val_loss: 0.6768 - val_f1_score: 0.0000e+00\n",
      "Epoch 25/25\n",
      "186/186 [==============================] - 16s 85ms/step - loss: 0.6796 - f1_score: 0.0000e+00 - val_loss: 0.6767 - val_f1_score: 0.0000e+00\n"
     ]
    },
    {
     "data": {
      "image/png": "[encoded data removed]",
      "text/plain": [
       "<Figure size 720x360 with 2 Axes>"
      ]
     },
     "metadata": {
      "needs_background": "light"
     },
     "output_type": "display_data"
    }
   ],
   "source": [
    "reg_lambda = 0.001\n",
    "\n",
    "model_reg3 = tf.keras.Sequential([\n",
    "    #VGG block 1\n",
    "    tf.keras.layers.Conv2D(32, (3, 3), activation='relu', padding='same', \n",
    "                           kernel_regularizer=tf.keras.regularizers.l2(reg_lambda), input_shape=(32, 32, 3)),\n",
    "    tf.keras.layers.Conv2D(32, (3, 3), activation='relu', padding='same', \n",
    "                           kernel_regularizer=tf.keras.regularizers.l2(reg_lambda)),\n",
    "    tf.keras.layers.MaxPooling2D((2, 2)),\n",
    "    \n",
    "    #VGG block 2\n",
    "    tf.keras.layers.Conv2D(64, (3, 3), activation='relu', padding='same', \n",
    "                           kernel_regularizer=tf.keras.regularizers.l2(reg_lambda)),\n",
    "    tf.keras.layers.Conv2D(64, (3, 3), activation='relu', padding='same', \n",
    "                           kernel_regularizer=tf.keras.regularizers.l2(reg_lambda)),\n",
    "    tf.keras.layers.MaxPooling2D((2, 2)),\n",
    "    \n",
    "    #VGG block 3\n",
    "    tf.keras.layers.Conv2D(128, (3, 3), activation='relu', padding='same', \n",
    "                           kernel_regularizer=tf.keras.regularizers.l2(reg_lambda)),\n",
    "    tf.keras.layers.Conv2D(128, (3, 3), activation='relu', padding='same', \n",
    "                           kernel_regularizer=tf.keras.regularizers.l2(reg_lambda)),\n",
    "    tf.keras.layers.MaxPooling2D((2, 2)),\n",
    "    \n",
    "    #VGG block 4\n",
    "    tf.keras.layers.Conv2D(128, (3, 3), activation='relu', padding='same', \n",
    "                           kernel_regularizer=tf.keras.regularizers.l2(reg_lambda)),\n",
    "    tf.keras.layers.Conv2D(128, (3, 3), activation='relu', padding='same', \n",
    "                           kernel_regularizer=tf.keras.regularizers.l2(reg_lambda)),\n",
    "    tf.keras.layers.MaxPooling2D((2, 2)),\n",
    "    \n",
    "    tf.keras.layers.Flatten(),\n",
    "    tf.keras.layers.Dense(128, activation='relu'),\n",
    "    tf.keras.layers.Dense(OUTPUT_CLASSES),\n",
    "])\n",
    "\n",
    "model_reg3.compile(optimizer='adam',\n",
    "              loss=tf.keras.losses.BinaryCrossentropy(from_logits=True),\n",
    "              metrics=[F1Score()])\n",
    "\n",
    "logdir='logs'\n",
    "tensorboard_callback = tf.keras.callbacks.TensorBoard(log_dir=logdir)\n",
    "history_model_reg3 = model_reg3.fit(train_generator, epochs=25, validation_data=validation_generator, callbacks=[tensorboard_callback])\n",
    "\n",
    "plot_learning_curve(history_model_reg3.history['loss'], history_model_reg3.history['val_loss'], \n",
    "                    history_model_reg3.history['f1_score'], history_model_reg3.history['val_f1_score'], \n",
    "                    metric_name='F1 Score')"
   ]
  },
  {
   "cell_type": "markdown",
   "id": "efb91ee4",
   "metadata": {},
   "source": [
    "Adding a new layer does not significantly improve the model. It decreases the model f1 score around 13 epochs. In fact it gave similar results to the graphs we got from the lambda value of 0.01.\n",
    "\n",
    "Next, we will try increasing the batch size to 64 and fit it with reguralization to see if it will improve the model."
   ]
  },
  {
   "cell_type": "code",
   "execution_count": 23,
   "id": "31d9753f",
   "metadata": {},
   "outputs": [
    {
     "name": "stdout",
     "output_type": "stream",
     "text": [
      "Found 5937 validated image filenames belonging to 2 classes.\n",
      "Found 1979 validated image filenames belonging to 2 classes.\n"
     ]
    }
   ],
   "source": [
    "# Code taken from Week08 lab\n",
    "from tensorflow.keras.preprocessing.image import ImageDataGenerator\n",
    "\n",
    "train_datagen = ImageDataGenerator(rescale=1./255, data_format='channels_last')\n",
    "val_datagen = ImageDataGenerator(rescale=1./255, data_format='channels_last')\n",
    "\n",
    "batch_size = 64\n",
    "\n",
    "train_generator2 = train_datagen.flow_from_dataframe(\n",
    "        dataframe=train_data,\n",
    "        directory='./',\n",
    "        x_col=\"ImgPath\",\n",
    "        y_col=\"isCancerous\",\n",
    "        target_size=(32, 32),\n",
    "        batch_size=batch_size,\n",
    "        class_mode='categorical')\n",
    "\n",
    "validation_generator2 = val_datagen.flow_from_dataframe(\n",
    "        dataframe=val_data,\n",
    "        directory='./',\n",
    "        x_col=\"ImgPath\",\n",
    "        y_col=\"isCancerous\",\n",
    "        target_size=(32, 32),\n",
    "        batch_size=batch_size,\n",
    "        class_mode='categorical')"
   ]
  },
  {
   "cell_type": "code",
   "execution_count": 25,
   "id": "545d1b0b",
   "metadata": {},
   "outputs": [
    {
     "name": "stdout",
     "output_type": "stream",
     "text": [
      "Epoch 1/25\n",
      "93/93 [==============================] - ETA: 0s - loss: 0.7347 - f1_score: 0.4893"
     ]
    },
    {
     "name": "stderr",
     "output_type": "stream",
     "text": [
      "C:\\Users\\penus\\anaconda3\\lib\\site-packages\\keras\\engine\\training.py:2319: UserWarning: Metric F1Score implements a `reset_states()` method; rename it to `reset_state()` (without the final \"s\"). The name `reset_states()` has been deprecated to improve API consistency.\n",
      "  m.reset_state()\n"
     ]
    },
    {
     "name": "stdout",
     "output_type": "stream",
     "text": [
      "93/93 [==============================] - 14s 141ms/step - loss: 0.7347 - f1_score: 0.4893 - val_loss: 0.5987 - val_f1_score: 0.6385\n",
      "Epoch 2/25\n",
      "93/93 [==============================] - 13s 135ms/step - loss: 0.4709 - f1_score: 0.7786 - val_loss: 0.3396 - val_f1_score: 0.8744\n",
      "Epoch 3/25\n",
      "93/93 [==============================] - 12s 134ms/step - loss: 0.3704 - f1_score: 0.8528 - val_loss: 0.3957 - val_f1_score: 0.8319\n",
      "Epoch 4/25\n",
      "93/93 [==============================] - 12s 134ms/step - loss: 0.3450 - f1_score: 0.8653 - val_loss: 0.3770 - val_f1_score: 0.8378\n",
      "Epoch 5/25\n",
      "93/93 [==============================] - 13s 138ms/step - loss: 0.3434 - f1_score: 0.8643 - val_loss: 0.4072 - val_f1_score: 0.8217\n",
      "Epoch 6/25\n",
      "93/93 [==============================] - 13s 137ms/step - loss: 0.3318 - f1_score: 0.8643 - val_loss: 0.2887 - val_f1_score: 0.8885\n",
      "Epoch 7/25\n",
      "93/93 [==============================] - 12s 134ms/step - loss: 0.3243 - f1_score: 0.8716 - val_loss: 0.2918 - val_f1_score: 0.8873\n",
      "Epoch 8/25\n",
      "93/93 [==============================] - 13s 139ms/step - loss: 0.3306 - f1_score: 0.8642 - val_loss: 0.3172 - val_f1_score: 0.8684\n",
      "Epoch 9/25\n",
      "93/93 [==============================] - 13s 138ms/step - loss: 0.3288 - f1_score: 0.8687 - val_loss: 0.3012 - val_f1_score: 0.8845\n",
      "Epoch 10/25\n",
      "93/93 [==============================] - 13s 143ms/step - loss: 0.3043 - f1_score: 0.8810 - val_loss: 0.2839 - val_f1_score: 0.8902\n",
      "Epoch 11/25\n",
      "93/93 [==============================] - 14s 145ms/step - loss: 0.3088 - f1_score: 0.8758 - val_loss: 0.2907 - val_f1_score: 0.8837\n",
      "Epoch 12/25\n",
      "93/93 [==============================] - 13s 139ms/step - loss: 0.3108 - f1_score: 0.8748 - val_loss: 0.3257 - val_f1_score: 0.8716\n",
      "Epoch 13/25\n",
      "93/93 [==============================] - 13s 141ms/step - loss: 0.3133 - f1_score: 0.8771 - val_loss: 0.3256 - val_f1_score: 0.8626\n",
      "Epoch 14/25\n",
      "93/93 [==============================] - 13s 137ms/step - loss: 0.3008 - f1_score: 0.8834 - val_loss: 0.2665 - val_f1_score: 0.8977\n",
      "Epoch 15/25\n",
      "93/93 [==============================] - 13s 136ms/step - loss: 0.3084 - f1_score: 0.8791 - val_loss: 0.3060 - val_f1_score: 0.8826\n",
      "Epoch 16/25\n",
      "93/93 [==============================] - 13s 135ms/step - loss: 0.3141 - f1_score: 0.8711 - val_loss: 0.2769 - val_f1_score: 0.8905\n",
      "Epoch 17/25\n",
      "93/93 [==============================] - 13s 137ms/step - loss: 0.2812 - f1_score: 0.8906 - val_loss: 0.2882 - val_f1_score: 0.8903\n",
      "Epoch 18/25\n",
      "93/93 [==============================] - 13s 137ms/step - loss: 0.2981 - f1_score: 0.8830 - val_loss: 0.2693 - val_f1_score: 0.8964\n",
      "Epoch 19/25\n",
      "93/93 [==============================] - 13s 136ms/step - loss: 0.2985 - f1_score: 0.8811 - val_loss: 0.2714 - val_f1_score: 0.8937\n",
      "Epoch 20/25\n",
      "93/93 [==============================] - 13s 137ms/step - loss: 0.2959 - f1_score: 0.8805 - val_loss: 0.2735 - val_f1_score: 0.8984\n",
      "Epoch 21/25\n",
      "93/93 [==============================] - 13s 137ms/step - loss: 0.2921 - f1_score: 0.8832 - val_loss: 0.2673 - val_f1_score: 0.8981\n",
      "Epoch 22/25\n",
      "93/93 [==============================] - 13s 137ms/step - loss: 0.2742 - f1_score: 0.8931 - val_loss: 0.2737 - val_f1_score: 0.8947\n",
      "Epoch 23/25\n",
      "93/93 [==============================] - 13s 137ms/step - loss: 0.2922 - f1_score: 0.8835 - val_loss: 0.2783 - val_f1_score: 0.8964\n",
      "Epoch 24/25\n",
      "93/93 [==============================] - 13s 137ms/step - loss: 0.2955 - f1_score: 0.8808 - val_loss: 0.2633 - val_f1_score: 0.9002\n",
      "Epoch 25/25\n",
      "93/93 [==============================] - 13s 140ms/step - loss: 0.2837 - f1_score: 0.8907 - val_loss: 0.2617 - val_f1_score: 0.9012\n"
     ]
    },
    {
     "data": {
      "image/png": "[encoded data removed]",
      "text/plain": [
       "<Figure size 720x360 with 2 Axes>"
      ]
     },
     "metadata": {
      "needs_background": "light"
     },
     "output_type": "display_data"
    }
   ],
   "source": [
    "reg_lambda = 0.001\n",
    "\n",
    "model2 = tf.keras.Sequential([\n",
    "    #VGG block 1\n",
    "    tf.keras.layers.Conv2D(32, (3, 3), activation='relu', padding='same', \n",
    "                           kernel_regularizer=tf.keras.regularizers.l2(reg_lambda), input_shape=(32, 32, 3)),\n",
    "    tf.keras.layers.Conv2D(32, (3, 3), activation='relu', padding='same', \n",
    "                           kernel_regularizer=tf.keras.regularizers.l2(reg_lambda)),\n",
    "    tf.keras.layers.MaxPooling2D((2, 2)),\n",
    "    \n",
    "    #VGG block 2\n",
    "    tf.keras.layers.Conv2D(64, (3, 3), activation='relu', padding='same', \n",
    "                           kernel_regularizer=tf.keras.regularizers.l2(reg_lambda)),\n",
    "    tf.keras.layers.Conv2D(64, (3, 3), activation='relu', padding='same', \n",
    "                           kernel_regularizer=tf.keras.regularizers.l2(reg_lambda)),\n",
    "    tf.keras.layers.MaxPooling2D((2, 2)),\n",
    "    \n",
    "    #VGG block 3\n",
    "    tf.keras.layers.Conv2D(128, (3, 3), activation='relu', padding='same', \n",
    "                           kernel_regularizer=tf.keras.regularizers.l2(reg_lambda)),\n",
    "    tf.keras.layers.Conv2D(128, (3, 3), activation='relu', padding='same', \n",
    "                           kernel_regularizer=tf.keras.regularizers.l2(reg_lambda)),\n",
    "    tf.keras.layers.MaxPooling2D((2, 2)),\n",
    "    \n",
    "    tf.keras.layers.Flatten(),\n",
    "    tf.keras.layers.Dense(128, activation='relu'),\n",
    "    tf.keras.layers.Dense(OUTPUT_CLASSES),\n",
    "])\n",
    "\n",
    "model2.compile(optimizer='adam',\n",
    "              loss=tf.keras.losses.BinaryCrossentropy(from_logits=True),\n",
    "              metrics=[F1Score()])\n",
    "\n",
    "logdir='logs'\n",
    "tensorboard_callback = tf.keras.callbacks.TensorBoard(log_dir=logdir)\n",
    "history_model2 = model2.fit(train_generator2, epochs=25, validation_data=validation_generator2, callbacks=[tensorboard_callback])\n",
    "\n",
    "plot_learning_curve(history_model2.history['loss'], history_model2.history['val_loss'], \n",
    "                    history_model2.history['f1_score'], history_model2.history['val_f1_score'], \n",
    "                    metric_name='F1 Score')"
   ]
  },
  {
   "cell_type": "markdown",
   "id": "f3a2fa21",
   "metadata": {},
   "source": [
    "This shows the almost the same results as the model with 32 batches and 0.001 lambda for reguralization as it as a f1 score of almost 90% but the loss is higher in this model around 0.3. \n",
    "\n",
    "Therefore, as our final model we will be using the model with 32 batches and 0.001 lambda for reguralization as it showed the least values for loss and high f1 score. This was stored under the variable 'model_reg'."
   ]
  },
  {
   "cell_type": "markdown",
   "id": "828310ab",
   "metadata": {},
   "source": [
    "## Testing <a id='test'></a>"
   ]
  },
  {
   "cell_type": "markdown",
   "id": "7bb2fe99",
   "metadata": {},
   "source": [
    "Finally we will use our final model and test it on our test data. To do this we will first create a data geenrator for the test data."
   ]
  },
  {
   "cell_type": "code",
   "execution_count": 26,
   "id": "70bb0483",
   "metadata": {},
   "outputs": [
    {
     "name": "stdout",
     "output_type": "stream",
     "text": [
      "Found 1980 validated image filenames belonging to 2 classes.\n"
     ]
    }
   ],
   "source": [
    "test_data['isCancerous'] = test_data['isCancerous'].astype('str')\n",
    "\n",
    "test_datagen = ImageDataGenerator(rescale=1./255, data_format='channels_last')\n",
    "\n",
    "batch_size = 32\n",
    "\n",
    "test_generator = test_datagen.flow_from_dataframe(\n",
    "        dataframe=test_data,\n",
    "        directory='./',\n",
    "        x_col=\"ImgPath\",\n",
    "        y_col=\"isCancerous\",\n",
    "        target_size=(32, 32),\n",
    "        batch_size=batch_size,\n",
    "        class_mode='categorical')"
   ]
  },
  {
   "cell_type": "markdown",
   "id": "f10a0fd0",
   "metadata": {},
   "source": [
    "Now we will evaluate our model on the test data generator."
   ]
  },
  {
   "cell_type": "code",
   "execution_count": 28,
   "id": "878f306a",
   "metadata": {},
   "outputs": [
    {
     "name": "stdout",
     "output_type": "stream",
     "text": [
      "62/62 [==============================] - 1s 19ms/step - loss: 0.2674 - f1_score: 0.9057\n"
     ]
    },
    {
     "data": {
      "text/plain": [
       "[0.26740750670433044, 0.9056701064109802]"
      ]
     },
     "execution_count": 28,
     "metadata": {},
     "output_type": "execute_result"
    }
   ],
   "source": [
    "model_reg.evaluate(test_generator)"
   ]
  },
  {
   "cell_type": "markdown",
   "id": "74cea106",
   "metadata": {},
   "source": [
    "Our model gives us a loss of 0.3 and a f1 score of 91%."
   ]
  }
 ],
 "metadata": {
  "kernelspec": {
   "display_name": "Python 3 (ipykernel)",
   "language": "python",
   "name": "python3"
  },
  "language_info": {
   "codemirror_mode": {
    "name": "ipython",
    "version": 3
   },
   "file_extension": ".py",
   "mimetype": "text/x-python",
   "name": "python",
   "nbconvert_exporter": "python",
   "pygments_lexer": "ipython3",
   "version": "3.10.9"
  }
 },
 "nbformat": 4,
 "nbformat_minor": 5
}
